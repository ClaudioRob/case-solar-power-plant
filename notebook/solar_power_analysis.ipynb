{
 "cells": [
  {
   "cell_type": "code",
   "execution_count": 1,
   "metadata": {},
   "outputs": [],
   "source": [
    "import pandas as pd\n",
    "import seaborn as sns\n",
    "import matplotlib.pyplot as plt\n",
    "import numpy as np"
   ]
  },
  {
   "cell_type": "code",
   "execution_count": 2,
   "metadata": {},
   "outputs": [
    {
     "ename": "FileNotFoundError",
     "evalue": "[Errno 2] No such file or directory: 'dados/power_generation_plant_1.csv'",
     "output_type": "error",
     "traceback": [
      "\u001b[0;31m---------------------------------------------------------------------------\u001b[0m",
      "\u001b[0;31mFileNotFoundError\u001b[0m                         Traceback (most recent call last)",
      "Cell \u001b[0;32mIn[2], line 15\u001b[0m\n\u001b[1;32m     11\u001b[0m sensor_files \u001b[38;5;241m=\u001b[39m [os\u001b[38;5;241m.\u001b[39mpath\u001b[38;5;241m.\u001b[39mjoin(base_dir, \u001b[38;5;124m\"\u001b[39m\u001b[38;5;124mweather_sensor_plant_1.csv\u001b[39m\u001b[38;5;124m\"\u001b[39m),\n\u001b[1;32m     12\u001b[0m                 os\u001b[38;5;241m.\u001b[39mpath\u001b[38;5;241m.\u001b[39mjoin(base_dir, \u001b[38;5;124m\"\u001b[39m\u001b[38;5;124mweather_sensor_plant_2.csv\u001b[39m\u001b[38;5;124m\"\u001b[39m)]\n\u001b[1;32m     14\u001b[0m \u001b[38;5;66;03m# Lê e concatena todos os arquivos de geração\u001b[39;00m\n\u001b[0;32m---> 15\u001b[0m generation_data \u001b[38;5;241m=\u001b[39m pd\u001b[38;5;241m.\u001b[39mconcat([\u001b[43mpd\u001b[49m\u001b[38;5;241;43m.\u001b[39;49m\u001b[43mread_csv\u001b[49m\u001b[43m(\u001b[49m\u001b[43mfile\u001b[49m\u001b[43m)\u001b[49m \u001b[38;5;28;01mfor\u001b[39;00m file \u001b[38;5;129;01min\u001b[39;00m generation_files], ignore_index\u001b[38;5;241m=\u001b[39m\u001b[38;5;28;01mTrue\u001b[39;00m)\n\u001b[1;32m     17\u001b[0m \u001b[38;5;66;03m# Lê e concatena todos os arquivos de sensores\u001b[39;00m\n\u001b[1;32m     18\u001b[0m sensor_data \u001b[38;5;241m=\u001b[39m pd\u001b[38;5;241m.\u001b[39mconcat([pd\u001b[38;5;241m.\u001b[39mread_csv(file) \u001b[38;5;28;01mfor\u001b[39;00m file \u001b[38;5;129;01min\u001b[39;00m sensor_files], ignore_index\u001b[38;5;241m=\u001b[39m\u001b[38;5;28;01mTrue\u001b[39;00m)\n",
      "File \u001b[0;32m~/projetos/case-solar-power-plant/.venv/lib/python3.12/site-packages/pandas/io/parsers/readers.py:1026\u001b[0m, in \u001b[0;36mread_csv\u001b[0;34m(filepath_or_buffer, sep, delimiter, header, names, index_col, usecols, dtype, engine, converters, true_values, false_values, skipinitialspace, skiprows, skipfooter, nrows, na_values, keep_default_na, na_filter, verbose, skip_blank_lines, parse_dates, infer_datetime_format, keep_date_col, date_parser, date_format, dayfirst, cache_dates, iterator, chunksize, compression, thousands, decimal, lineterminator, quotechar, quoting, doublequote, escapechar, comment, encoding, encoding_errors, dialect, on_bad_lines, delim_whitespace, low_memory, memory_map, float_precision, storage_options, dtype_backend)\u001b[0m\n\u001b[1;32m   1013\u001b[0m kwds_defaults \u001b[38;5;241m=\u001b[39m _refine_defaults_read(\n\u001b[1;32m   1014\u001b[0m     dialect,\n\u001b[1;32m   1015\u001b[0m     delimiter,\n\u001b[0;32m   (...)\u001b[0m\n\u001b[1;32m   1022\u001b[0m     dtype_backend\u001b[38;5;241m=\u001b[39mdtype_backend,\n\u001b[1;32m   1023\u001b[0m )\n\u001b[1;32m   1024\u001b[0m kwds\u001b[38;5;241m.\u001b[39mupdate(kwds_defaults)\n\u001b[0;32m-> 1026\u001b[0m \u001b[38;5;28;01mreturn\u001b[39;00m \u001b[43m_read\u001b[49m\u001b[43m(\u001b[49m\u001b[43mfilepath_or_buffer\u001b[49m\u001b[43m,\u001b[49m\u001b[43m \u001b[49m\u001b[43mkwds\u001b[49m\u001b[43m)\u001b[49m\n",
      "File \u001b[0;32m~/projetos/case-solar-power-plant/.venv/lib/python3.12/site-packages/pandas/io/parsers/readers.py:620\u001b[0m, in \u001b[0;36m_read\u001b[0;34m(filepath_or_buffer, kwds)\u001b[0m\n\u001b[1;32m    617\u001b[0m _validate_names(kwds\u001b[38;5;241m.\u001b[39mget(\u001b[38;5;124m\"\u001b[39m\u001b[38;5;124mnames\u001b[39m\u001b[38;5;124m\"\u001b[39m, \u001b[38;5;28;01mNone\u001b[39;00m))\n\u001b[1;32m    619\u001b[0m \u001b[38;5;66;03m# Create the parser.\u001b[39;00m\n\u001b[0;32m--> 620\u001b[0m parser \u001b[38;5;241m=\u001b[39m \u001b[43mTextFileReader\u001b[49m\u001b[43m(\u001b[49m\u001b[43mfilepath_or_buffer\u001b[49m\u001b[43m,\u001b[49m\u001b[43m \u001b[49m\u001b[38;5;241;43m*\u001b[39;49m\u001b[38;5;241;43m*\u001b[39;49m\u001b[43mkwds\u001b[49m\u001b[43m)\u001b[49m\n\u001b[1;32m    622\u001b[0m \u001b[38;5;28;01mif\u001b[39;00m chunksize \u001b[38;5;129;01mor\u001b[39;00m iterator:\n\u001b[1;32m    623\u001b[0m     \u001b[38;5;28;01mreturn\u001b[39;00m parser\n",
      "File \u001b[0;32m~/projetos/case-solar-power-plant/.venv/lib/python3.12/site-packages/pandas/io/parsers/readers.py:1620\u001b[0m, in \u001b[0;36mTextFileReader.__init__\u001b[0;34m(self, f, engine, **kwds)\u001b[0m\n\u001b[1;32m   1617\u001b[0m     \u001b[38;5;28mself\u001b[39m\u001b[38;5;241m.\u001b[39moptions[\u001b[38;5;124m\"\u001b[39m\u001b[38;5;124mhas_index_names\u001b[39m\u001b[38;5;124m\"\u001b[39m] \u001b[38;5;241m=\u001b[39m kwds[\u001b[38;5;124m\"\u001b[39m\u001b[38;5;124mhas_index_names\u001b[39m\u001b[38;5;124m\"\u001b[39m]\n\u001b[1;32m   1619\u001b[0m \u001b[38;5;28mself\u001b[39m\u001b[38;5;241m.\u001b[39mhandles: IOHandles \u001b[38;5;241m|\u001b[39m \u001b[38;5;28;01mNone\u001b[39;00m \u001b[38;5;241m=\u001b[39m \u001b[38;5;28;01mNone\u001b[39;00m\n\u001b[0;32m-> 1620\u001b[0m \u001b[38;5;28mself\u001b[39m\u001b[38;5;241m.\u001b[39m_engine \u001b[38;5;241m=\u001b[39m \u001b[38;5;28;43mself\u001b[39;49m\u001b[38;5;241;43m.\u001b[39;49m\u001b[43m_make_engine\u001b[49m\u001b[43m(\u001b[49m\u001b[43mf\u001b[49m\u001b[43m,\u001b[49m\u001b[43m \u001b[49m\u001b[38;5;28;43mself\u001b[39;49m\u001b[38;5;241;43m.\u001b[39;49m\u001b[43mengine\u001b[49m\u001b[43m)\u001b[49m\n",
      "File \u001b[0;32m~/projetos/case-solar-power-plant/.venv/lib/python3.12/site-packages/pandas/io/parsers/readers.py:1880\u001b[0m, in \u001b[0;36mTextFileReader._make_engine\u001b[0;34m(self, f, engine)\u001b[0m\n\u001b[1;32m   1878\u001b[0m     \u001b[38;5;28;01mif\u001b[39;00m \u001b[38;5;124m\"\u001b[39m\u001b[38;5;124mb\u001b[39m\u001b[38;5;124m\"\u001b[39m \u001b[38;5;129;01mnot\u001b[39;00m \u001b[38;5;129;01min\u001b[39;00m mode:\n\u001b[1;32m   1879\u001b[0m         mode \u001b[38;5;241m+\u001b[39m\u001b[38;5;241m=\u001b[39m \u001b[38;5;124m\"\u001b[39m\u001b[38;5;124mb\u001b[39m\u001b[38;5;124m\"\u001b[39m\n\u001b[0;32m-> 1880\u001b[0m \u001b[38;5;28mself\u001b[39m\u001b[38;5;241m.\u001b[39mhandles \u001b[38;5;241m=\u001b[39m \u001b[43mget_handle\u001b[49m\u001b[43m(\u001b[49m\n\u001b[1;32m   1881\u001b[0m \u001b[43m    \u001b[49m\u001b[43mf\u001b[49m\u001b[43m,\u001b[49m\n\u001b[1;32m   1882\u001b[0m \u001b[43m    \u001b[49m\u001b[43mmode\u001b[49m\u001b[43m,\u001b[49m\n\u001b[1;32m   1883\u001b[0m \u001b[43m    \u001b[49m\u001b[43mencoding\u001b[49m\u001b[38;5;241;43m=\u001b[39;49m\u001b[38;5;28;43mself\u001b[39;49m\u001b[38;5;241;43m.\u001b[39;49m\u001b[43moptions\u001b[49m\u001b[38;5;241;43m.\u001b[39;49m\u001b[43mget\u001b[49m\u001b[43m(\u001b[49m\u001b[38;5;124;43m\"\u001b[39;49m\u001b[38;5;124;43mencoding\u001b[39;49m\u001b[38;5;124;43m\"\u001b[39;49m\u001b[43m,\u001b[49m\u001b[43m \u001b[49m\u001b[38;5;28;43;01mNone\u001b[39;49;00m\u001b[43m)\u001b[49m\u001b[43m,\u001b[49m\n\u001b[1;32m   1884\u001b[0m \u001b[43m    \u001b[49m\u001b[43mcompression\u001b[49m\u001b[38;5;241;43m=\u001b[39;49m\u001b[38;5;28;43mself\u001b[39;49m\u001b[38;5;241;43m.\u001b[39;49m\u001b[43moptions\u001b[49m\u001b[38;5;241;43m.\u001b[39;49m\u001b[43mget\u001b[49m\u001b[43m(\u001b[49m\u001b[38;5;124;43m\"\u001b[39;49m\u001b[38;5;124;43mcompression\u001b[39;49m\u001b[38;5;124;43m\"\u001b[39;49m\u001b[43m,\u001b[49m\u001b[43m \u001b[49m\u001b[38;5;28;43;01mNone\u001b[39;49;00m\u001b[43m)\u001b[49m\u001b[43m,\u001b[49m\n\u001b[1;32m   1885\u001b[0m \u001b[43m    \u001b[49m\u001b[43mmemory_map\u001b[49m\u001b[38;5;241;43m=\u001b[39;49m\u001b[38;5;28;43mself\u001b[39;49m\u001b[38;5;241;43m.\u001b[39;49m\u001b[43moptions\u001b[49m\u001b[38;5;241;43m.\u001b[39;49m\u001b[43mget\u001b[49m\u001b[43m(\u001b[49m\u001b[38;5;124;43m\"\u001b[39;49m\u001b[38;5;124;43mmemory_map\u001b[39;49m\u001b[38;5;124;43m\"\u001b[39;49m\u001b[43m,\u001b[49m\u001b[43m \u001b[49m\u001b[38;5;28;43;01mFalse\u001b[39;49;00m\u001b[43m)\u001b[49m\u001b[43m,\u001b[49m\n\u001b[1;32m   1886\u001b[0m \u001b[43m    \u001b[49m\u001b[43mis_text\u001b[49m\u001b[38;5;241;43m=\u001b[39;49m\u001b[43mis_text\u001b[49m\u001b[43m,\u001b[49m\n\u001b[1;32m   1887\u001b[0m \u001b[43m    \u001b[49m\u001b[43merrors\u001b[49m\u001b[38;5;241;43m=\u001b[39;49m\u001b[38;5;28;43mself\u001b[39;49m\u001b[38;5;241;43m.\u001b[39;49m\u001b[43moptions\u001b[49m\u001b[38;5;241;43m.\u001b[39;49m\u001b[43mget\u001b[49m\u001b[43m(\u001b[49m\u001b[38;5;124;43m\"\u001b[39;49m\u001b[38;5;124;43mencoding_errors\u001b[39;49m\u001b[38;5;124;43m\"\u001b[39;49m\u001b[43m,\u001b[49m\u001b[43m \u001b[49m\u001b[38;5;124;43m\"\u001b[39;49m\u001b[38;5;124;43mstrict\u001b[39;49m\u001b[38;5;124;43m\"\u001b[39;49m\u001b[43m)\u001b[49m\u001b[43m,\u001b[49m\n\u001b[1;32m   1888\u001b[0m \u001b[43m    \u001b[49m\u001b[43mstorage_options\u001b[49m\u001b[38;5;241;43m=\u001b[39;49m\u001b[38;5;28;43mself\u001b[39;49m\u001b[38;5;241;43m.\u001b[39;49m\u001b[43moptions\u001b[49m\u001b[38;5;241;43m.\u001b[39;49m\u001b[43mget\u001b[49m\u001b[43m(\u001b[49m\u001b[38;5;124;43m\"\u001b[39;49m\u001b[38;5;124;43mstorage_options\u001b[39;49m\u001b[38;5;124;43m\"\u001b[39;49m\u001b[43m,\u001b[49m\u001b[43m \u001b[49m\u001b[38;5;28;43;01mNone\u001b[39;49;00m\u001b[43m)\u001b[49m\u001b[43m,\u001b[49m\n\u001b[1;32m   1889\u001b[0m \u001b[43m\u001b[49m\u001b[43m)\u001b[49m\n\u001b[1;32m   1890\u001b[0m \u001b[38;5;28;01massert\u001b[39;00m \u001b[38;5;28mself\u001b[39m\u001b[38;5;241m.\u001b[39mhandles \u001b[38;5;129;01mis\u001b[39;00m \u001b[38;5;129;01mnot\u001b[39;00m \u001b[38;5;28;01mNone\u001b[39;00m\n\u001b[1;32m   1891\u001b[0m f \u001b[38;5;241m=\u001b[39m \u001b[38;5;28mself\u001b[39m\u001b[38;5;241m.\u001b[39mhandles\u001b[38;5;241m.\u001b[39mhandle\n",
      "File \u001b[0;32m~/projetos/case-solar-power-plant/.venv/lib/python3.12/site-packages/pandas/io/common.py:873\u001b[0m, in \u001b[0;36mget_handle\u001b[0;34m(path_or_buf, mode, encoding, compression, memory_map, is_text, errors, storage_options)\u001b[0m\n\u001b[1;32m    868\u001b[0m \u001b[38;5;28;01melif\u001b[39;00m \u001b[38;5;28misinstance\u001b[39m(handle, \u001b[38;5;28mstr\u001b[39m):\n\u001b[1;32m    869\u001b[0m     \u001b[38;5;66;03m# Check whether the filename is to be opened in binary mode.\u001b[39;00m\n\u001b[1;32m    870\u001b[0m     \u001b[38;5;66;03m# Binary mode does not support 'encoding' and 'newline'.\u001b[39;00m\n\u001b[1;32m    871\u001b[0m     \u001b[38;5;28;01mif\u001b[39;00m ioargs\u001b[38;5;241m.\u001b[39mencoding \u001b[38;5;129;01mand\u001b[39;00m \u001b[38;5;124m\"\u001b[39m\u001b[38;5;124mb\u001b[39m\u001b[38;5;124m\"\u001b[39m \u001b[38;5;129;01mnot\u001b[39;00m \u001b[38;5;129;01min\u001b[39;00m ioargs\u001b[38;5;241m.\u001b[39mmode:\n\u001b[1;32m    872\u001b[0m         \u001b[38;5;66;03m# Encoding\u001b[39;00m\n\u001b[0;32m--> 873\u001b[0m         handle \u001b[38;5;241m=\u001b[39m \u001b[38;5;28;43mopen\u001b[39;49m\u001b[43m(\u001b[49m\n\u001b[1;32m    874\u001b[0m \u001b[43m            \u001b[49m\u001b[43mhandle\u001b[49m\u001b[43m,\u001b[49m\n\u001b[1;32m    875\u001b[0m \u001b[43m            \u001b[49m\u001b[43mioargs\u001b[49m\u001b[38;5;241;43m.\u001b[39;49m\u001b[43mmode\u001b[49m\u001b[43m,\u001b[49m\n\u001b[1;32m    876\u001b[0m \u001b[43m            \u001b[49m\u001b[43mencoding\u001b[49m\u001b[38;5;241;43m=\u001b[39;49m\u001b[43mioargs\u001b[49m\u001b[38;5;241;43m.\u001b[39;49m\u001b[43mencoding\u001b[49m\u001b[43m,\u001b[49m\n\u001b[1;32m    877\u001b[0m \u001b[43m            \u001b[49m\u001b[43merrors\u001b[49m\u001b[38;5;241;43m=\u001b[39;49m\u001b[43merrors\u001b[49m\u001b[43m,\u001b[49m\n\u001b[1;32m    878\u001b[0m \u001b[43m            \u001b[49m\u001b[43mnewline\u001b[49m\u001b[38;5;241;43m=\u001b[39;49m\u001b[38;5;124;43m\"\u001b[39;49m\u001b[38;5;124;43m\"\u001b[39;49m\u001b[43m,\u001b[49m\n\u001b[1;32m    879\u001b[0m \u001b[43m        \u001b[49m\u001b[43m)\u001b[49m\n\u001b[1;32m    880\u001b[0m     \u001b[38;5;28;01melse\u001b[39;00m:\n\u001b[1;32m    881\u001b[0m         \u001b[38;5;66;03m# Binary mode\u001b[39;00m\n\u001b[1;32m    882\u001b[0m         handle \u001b[38;5;241m=\u001b[39m \u001b[38;5;28mopen\u001b[39m(handle, ioargs\u001b[38;5;241m.\u001b[39mmode)\n",
      "\u001b[0;31mFileNotFoundError\u001b[0m: [Errno 2] No such file or directory: 'dados/power_generation_plant_1.csv'"
     ]
    }
   ],
   "source": [
    "import os\n",
    "from pathlib import Path\n",
    "\n",
    "# Diretório onde estão os arquivos\n",
    "base_dir = \"dados/\"\n",
    "\n",
    "# Lista dos arquivos de geração e sensores, com caminhos completos\n",
    "generation_files = [os.path.join(base_dir, \"power_generation_plant_1.csv\"),\n",
    "                    os.path.join(base_dir, \"power_generation_plant_2.csv\")]\n",
    "\n",
    "sensor_files = [os.path.join(base_dir, \"weather_sensor_plant_1.csv\"),\n",
    "                os.path.join(base_dir, \"weather_sensor_plant_2.csv\")]\n",
    "\n",
    "# Lê e concatena todos os arquivos de geração\n",
    "generation_data = pd.concat([pd.read_csv(file) for file in generation_files], ignore_index=True)\n",
    "\n",
    "# Lê e concatena todos os arquivos de sensores\n",
    "sensor_data = pd.concat([pd.read_csv(file) for file in sensor_files], ignore_index=True)\n",
    "\n",
    "# Contagem de linhas e colunas antes das transformações\n",
    "print(\"Dados originais - Geração de Energia:\")\n",
    "print(generation_data.shape)\n",
    "\n",
    "print(\"\\nDados originais - Sensores Climáticos:\")\n",
    "print(sensor_data.shape)\n"
   ]
  },
  {
   "cell_type": "code",
   "execution_count": null,
   "metadata": {},
   "outputs": [
    {
     "name": "stdout",
     "output_type": "stream",
     "text": [
      "\n",
      "Dados processados - Geração de Energia:\n",
      "             DATE_TIME  PLANT_ID       SOURCE_KEY  DC_POWER  AC_POWER  \\\n",
      "0  2020-05-15 00:00:00   4135001  1BY6WEcLGh8j5v7       0.0       0.0   \n",
      "1  2020-05-15 00:00:00   4135001  1IF53ai7Xc0U56Y       0.0       0.0   \n",
      "2  2020-05-15 00:00:00   4135001  3PZuoBAID5Wc2HD       0.0       0.0   \n",
      "3  2020-05-15 00:00:00   4135001  7JYdWkrLSPkdwr4       0.0       0.0   \n",
      "4  2020-05-15 00:00:00   4135001  McdE0feGgRqW7Ca       0.0       0.0   \n",
      "\n",
      "   DAILY_YIELD  TOTAL_YIELD  \n",
      "0          0.0    6259559.0  \n",
      "1          0.0    6183645.0  \n",
      "2          0.0    6987759.0  \n",
      "3          0.0    7602960.0  \n",
      "4          0.0    7158964.0  \n",
      "\n",
      "Dados processados - Sensores Climáticos:\n",
      "             DATE_TIME  PLANT_ID       SOURCE_KEY  AMBIENT_TEMPERATURE  \\\n",
      "0  2020-05-15 00:00:00   4135001  HmiyD2TTLFNqkNe            25.184316   \n",
      "1  2020-05-15 00:15:00   4135001  HmiyD2TTLFNqkNe            25.084589   \n",
      "2  2020-05-15 00:30:00   4135001  HmiyD2TTLFNqkNe            24.935753   \n",
      "3  2020-05-15 00:45:00   4135001  HmiyD2TTLFNqkNe            24.846130   \n",
      "4  2020-05-15 01:00:00   4135001  HmiyD2TTLFNqkNe            24.621525   \n",
      "\n",
      "   MODULE_TEMPERATURE  IRRADIATION  \n",
      "0           22.857507          0.0  \n",
      "1           22.761668          0.0  \n",
      "2           22.592306          0.0  \n",
      "3           22.360852          0.0  \n",
      "4           22.165423          0.0  \n"
     ]
    },
    {
     "name": "stderr",
     "output_type": "stream",
     "text": [
      "/tmp/ipykernel_5068/3468254982.py:6: UserWarning: Parsing dates in %Y-%m-%d %H:%M:%S format when dayfirst=True was specified. Pass `dayfirst=False` or specify a format to silence this warning.\n",
      "  df[date_column] = pd.to_datetime(df[date_column], dayfirst=True, errors='coerce')\n"
     ]
    }
   ],
   "source": [
    "# Função para padronizar e converter a coluna DATE_TIME para timestamp\n",
    "def convert_to_timestamp(df, date_column):\n",
    "    \"\"\"\n",
    "    Converte a coluna de data para timestamp e garante formato padronizado.\n",
    "    \"\"\"\n",
    "    df[date_column] = pd.to_datetime(df[date_column], dayfirst=True, errors='coerce')\n",
    "    df[date_column] = df[date_column].dt.strftime('%Y-%m-%d %H:%M:%S')\n",
    "    \n",
    "    return df\n",
    "\n",
    "# Aplicar a função de conversão à coluna DATE_TIME\n",
    "generation_data = convert_to_timestamp(generation_data, 'DATE_TIME')\n",
    "sensor_data = convert_to_timestamp(sensor_data, 'DATE_TIME')\n",
    "\n",
    "# Exibir os dados processados para verificação\n",
    "print(\"\\nDados processados - Geração de Energia:\")\n",
    "print(generation_data.head())\n",
    "\n",
    "print(\"\\nDados processados - Sensores Climáticos:\")\n",
    "print(sensor_data.head())"
   ]
  },
  {
   "cell_type": "code",
   "execution_count": null,
   "metadata": {},
   "outputs": [
    {
     "name": "stdout",
     "output_type": "stream",
     "text": [
      "\n",
      "Dados com Hora - Geração de Energia:\n",
      "   DATE_TIME  HOUR\n",
      "0 2020-05-15   0.0\n",
      "1 2020-05-15   0.0\n",
      "2 2020-05-15   0.0\n",
      "3 2020-05-15   0.0\n",
      "4 2020-05-15   0.0\n",
      "\n",
      "Dados com Hora - Sensores Climáticos:\n",
      "            DATE_TIME  HOUR\n",
      "0 2020-05-15 00:00:00     0\n",
      "1 2020-05-15 00:15:00     0\n",
      "2 2020-05-15 00:30:00     0\n",
      "3 2020-05-15 00:45:00     0\n",
      "4 2020-05-15 01:00:00     1\n"
     ]
    }
   ],
   "source": [
    "# Converter a coluna DATE_TIME de volta para datetime após a formatação\n",
    "generation_data['DATE_TIME'] = pd.to_datetime(generation_data['DATE_TIME'])\n",
    "sensor_data['DATE_TIME'] = pd.to_datetime(sensor_data['DATE_TIME'])\n",
    "\n",
    "# Agrupar dados por hora para facilitar a análise\n",
    "generation_data['HOUR'] = generation_data['DATE_TIME'].dt.hour\n",
    "sensor_data['HOUR'] = sensor_data['DATE_TIME'].dt.hour\n",
    "\n",
    "# Exibir os dados com a nova coluna de hora\n",
    "print(\"\\nDados com Hora - Geração de Energia:\")\n",
    "print(generation_data[['DATE_TIME', 'HOUR']].head())\n",
    "\n",
    "print(\"\\nDados com Hora - Sensores Climáticos:\")\n",
    "print(sensor_data[['DATE_TIME', 'HOUR']].head())"
   ]
  },
  {
   "cell_type": "code",
   "execution_count": null,
   "metadata": {},
   "outputs": [
    {
     "name": "stdout",
     "output_type": "stream",
     "text": [
      "67698 erros no arquivo 1\n",
      "0 erros no arquivo 2\n",
      "   DATE_TIME\n",
      "0 2020-05-15\n",
      "1 2020-05-15\n",
      "2 2020-05-15\n",
      "3 2020-05-15\n",
      "4 2020-05-15\n",
      "            DATE_TIME\n",
      "0 2020-05-15 00:00:00\n",
      "1 2020-05-15 00:15:00\n",
      "2 2020-05-15 00:30:00\n",
      "3 2020-05-15 00:45:00\n",
      "4 2020-05-15 01:00:00\n"
     ]
    }
   ],
   "source": [
    "# Verifica se houve alguma conversão falha (por exemplo, valores que não puderam ser convertidos)\n",
    "print(generation_data['DATE_TIME'].isnull().sum(), \"erros no arquivo 1\")\n",
    "print(sensor_data['DATE_TIME'].isnull().sum(), \"erros no arquivo 2\")\n",
    "\n",
    "# Exibe uma amostra dos dados para verificar a conversão\n",
    "print(generation_data[['DATE_TIME']].head())\n",
    "print(sensor_data[['DATE_TIME']].head())"
   ]
  },
  {
   "cell_type": "code",
   "execution_count": null,
   "metadata": {},
   "outputs": [
    {
     "name": "stdout",
     "output_type": "stream",
     "text": [
      "Horários de pico de geração de energia (3 maiores):\n",
      "    HOUR      AC_POWER\n",
      "11  11.0  2.844334e+06\n",
      "12  12.0  2.802021e+06\n",
      "13  13.0  2.659193e+06\n",
      "\n",
      "Períodos de 3 horas consecutivas com alta geração de energia:\n",
      "    HOUR      AC_POWER\n",
      "10  10.0  2.550167e+06\n",
      "11  11.0  2.844334e+06\n",
      "12  12.0  2.802021e+06\n",
      "13  13.0  2.659193e+06\n"
     ]
    }
   ],
   "source": [
    "# Supondo que você já tenha os dados de geração em um DataFrame chamado generation_data\n",
    "\n",
    "# 1. Agrupar os dados por hora e somar a geração de energia\n",
    "generation_hourly = generation_data.groupby('HOUR').agg({'AC_POWER': 'sum'}).reset_index()\n",
    "\n",
    "# 2. Identificar os horários de pico (ex: os 3 maiores valores de AC_POWER)\n",
    "top_hours = generation_hourly.nlargest(3, 'AC_POWER')\n",
    "\n",
    "# Exibir as horas com maior geração\n",
    "print(\"Horários de pico de geração de energia (3 maiores):\")\n",
    "print(top_hours)\n",
    "\n",
    "# 3. Verificar períodos de 3 horas consecutivas\n",
    "generation_hourly['PICK'] = generation_hourly['AC_POWER'] > (top_hours['AC_POWER'].min() * 0.9)  # Ajuste o limite conforme necessário\n",
    "\n",
    "# Adiciona coluna de grupos\n",
    "generation_hourly['GROUP'] = (generation_hourly['PICK'] != generation_hourly['PICK'].shift()).cumsum()\n",
    "\n",
    "# Filtrar grupos de 3 ou mais horas consecutivas\n",
    "periods_of_interest = generation_hourly[generation_hourly['PICK']].groupby('GROUP').filter(lambda x: len(x) >= 3)\n",
    "\n",
    "# Exibir os períodos de interesse\n",
    "print(\"\\nPeríodos de 3 horas consecutivas com alta geração de energia:\")\n",
    "print(periods_of_interest[['HOUR', 'AC_POWER']])\n"
   ]
  },
  {
   "cell_type": "code",
   "execution_count": null,
   "metadata": {},
   "outputs": [
    {
     "name": "stdout",
     "output_type": "stream",
     "text": [
      "Melhores horários para redirecionamento de energia: [11.0, 12.0, 13.0]\n",
      "Eficiência dos painéis: 16.08%\n",
      "Correlação entre temperatura ambiente e geração de energia: 0.72\n",
      "Correlação entre temperatura do módulo e geração de energia: 0.95\n",
      "Correlação entre irradiação e geração de energia: 0.99\n"
     ]
    }
   ],
   "source": [
    "# 1. Melhor horário para redirecionamento de energia para baterias\n",
    "def analyze_peak_hours(generation_df):\n",
    "    hourly_ac_power = generation_df.groupby('HOUR')['AC_POWER'].sum()\n",
    "    \n",
    "    # Identificar o período de maior geração contínua (mínimo 3 horas)\n",
    "    peak_hours = hourly_ac_power.sort_values(ascending=False).head(3).index.tolist()\n",
    "    \n",
    "    return peak_hours\n",
    "\n",
    "# 2. Eficiência da disposição dos painéis\n",
    "def analyze_panel_efficiency(generation_df):\n",
    "    total_dc_power = generation_df['DC_POWER'].sum()\n",
    "    total_ac_power = generation_df['AC_POWER'].sum()\n",
    "    \n",
    "    efficiency = (total_ac_power / total_dc_power) * 100\n",
    "    return efficiency\n",
    "\n",
    "# 3. Impacto da temperatura na eficiência\n",
    "def analyze_temperature_impact(generation_df, weather_df):\n",
    "    merged_data = pd.merge(generation_df, weather_df, on=['DATE_TIME', 'PLANT_ID'], suffixes=('_gen', '_weather'))\n",
    "\n",
    "# Correlação entre temperatura ambiente e AC_POWER\n",
    "    correlation_ambient = merged_data[['AMBIENT_TEMPERATURE', 'AC_POWER']].corr().iloc[0, 1]\n",
    "    # Correlação entre temperatura do módulo e AC_POWER\n",
    "    correlation_module = merged_data[['MODULE_TEMPERATURE', 'AC_POWER']].corr().iloc[0, 1]\n",
    "    \n",
    "    return correlation_ambient, correlation_module\n",
    "\n",
    "# 4. Outros insights (Exemplo: impacto da irradiação)\n",
    "def analyze_irradiation_impact(generation_df, weather_df):\n",
    "    merged_data = pd.merge(generation_df, weather_df, on=['DATE_TIME', 'PLANT_ID'], suffixes=('_gen', '_weather'))\n",
    "    \n",
    "    # Correlação entre irradiação e AC_POWER\n",
    "    correlation_irradiation = merged_data[['IRRADIATION', 'AC_POWER']].corr().iloc[0, 1]\n",
    "    \n",
    "    return correlation_irradiation\n",
    "\n",
    "# Execução das análises\n",
    "peak_hours = analyze_peak_hours(generation_data)\n",
    "efficiency = analyze_panel_efficiency(generation_data)\n",
    "correlation_ambient, correlation_module = analyze_temperature_impact(generation_data, sensor_data)\n",
    "correlation_irradiation = analyze_irradiation_impact(generation_data, sensor_data)\n",
    "\n",
    "# Resultados\n",
    "print(f\"Melhores horários para redirecionamento de energia: {peak_hours}\")\n",
    "print(f\"Eficiência dos painéis: {efficiency:.2f}%\")\n",
    "print(f\"Correlação entre temperatura ambiente e geração de energia: {correlation_ambient:.2f}\")\n",
    "print(f\"Correlação entre temperatura do módulo e geração de energia: {correlation_module:.2f}\")\n",
    "print(f\"Correlação entre irradiação e geração de energia: {correlation_irradiation:.2f}\")"
   ]
  }
 ],
 "metadata": {
  "kernelspec": {
   "display_name": ".venv",
   "language": "python",
   "name": "python3"
  },
  "language_info": {
   "codemirror_mode": {
    "name": "ipython",
    "version": 3
   },
   "file_extension": ".py",
   "mimetype": "text/x-python",
   "name": "python",
   "nbconvert_exporter": "python",
   "pygments_lexer": "ipython3",
   "version": "3.12.3"
  }
 },
 "nbformat": 4,
 "nbformat_minor": 2
}
