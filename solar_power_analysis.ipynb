{
 "cells": [
  {
   "cell_type": "code",
   "execution_count": null,
   "metadata": {},
   "outputs": [],
   "source": [
    "import pandas as pd\n",
    "import seaborn as sns\n",
    "import matplotlib.pyplot as plt\n",
    "import numpy as np\n",
    "import os\n",
    "from pathlib import Path"
   ]
  },
  {
   "cell_type": "code",
   "execution_count": 25,
   "metadata": {},
   "outputs": [
    {
     "name": "stdout",
     "output_type": "stream",
     "text": [
      "Dados originais - Geração de Energia:\n",
      "(136476, 7)\n",
      "\n",
      "Dados originais - Sensores Climáticos:\n",
      "(6441, 6)\n"
     ]
    }
   ],
   "source": [
    "# Diretório onde estão os arquivos\n",
    "base_dir = \"dados/\"\n",
    "\n",
    "# Lista dos arquivos de geração e sensores, com caminhos completos\n",
    "generation_files = [os.path.join(base_dir, \"power_generation_plant_1.csv\"),\n",
    "                    os.path.join(base_dir, \"power_generation_plant_2.csv\")]\n",
    "\n",
    "sensor_files = [os.path.join(base_dir, \"weather_sensor_plant_1.csv\"),\n",
    "                os.path.join(base_dir, \"weather_sensor_plant_2.csv\")]\n",
    "\n",
    "# Lê e concatena todos os arquivos de geração\n",
    "generation_data = pd.concat([pd.read_csv(file) for file in generation_files], ignore_index=True)\n",
    "sensor_data = pd.concat([pd.read_csv(file) for file in sensor_files], ignore_index=True)\n",
    "\n",
    "# Contagem de linhas e colunas antes da transformação\n",
    "print(\"Dados originais - Geração de Energia:\")\n",
    "print(generation_data.shape)\n",
    "\n",
    "print(\"\\nDados originais - Sensores Climáticos:\")\n",
    "print(sensor_data.shape)"
   ]
  },
  {
   "cell_type": "code",
   "execution_count": 22,
   "metadata": {},
   "outputs": [
    {
     "name": "stdout",
     "output_type": "stream",
     "text": [
      "Arquivo 1:\n",
      "             DATE_TIME\n",
      "0  2020-05-15 00:00:00\n",
      "1  2020-05-15 00:00:00\n",
      "2  2020-05-15 00:00:00\n",
      "3  2020-05-15 00:00:00\n",
      "4  2020-05-15 00:00:00\n",
      "Arquivo 2:\n",
      "             DATE_TIME\n",
      "0  2020-05-15 00:00:00\n",
      "1  2020-05-15 00:00:00\n",
      "2  2020-05-15 00:00:00\n",
      "3  2020-05-15 00:00:00\n",
      "4  2020-05-15 00:00:00\n"
     ]
    },
    {
     "name": "stderr",
     "output_type": "stream",
     "text": [
      "/tmp/ipykernel_5068/2528169770.py:7: UserWarning: Parsing dates in %Y-%m-%d %H:%M:%S format when dayfirst=True was specified. Pass `dayfirst=False` or specify a format to silence this warning.\n",
      "  df[date_column] = pd.to_datetime(df[date_column], dayfirst=True, errors='coerce')\n"
     ]
    }
   ],
   "source": [
    "# Função para padronizar e converter o campo DATE_TIME para timestamp\n",
    "def convert_to_timestamp(df, date_column):\n",
    "    \"\"\"\n",
    "    Converte a coluna de data para timestamp e garante formato padronizado.\n",
    "    \"\"\"\n",
    "    # Define dayfirst=True para evitar ambiguidade\n",
    "    df[date_column] = pd.to_datetime(df[date_column], dayfirst=True, errors='coerce')\n",
    "    \n",
    "    # Padroniza o formato para 'YYYY-MM-DD HH:MM:SS'\n",
    "    df[date_column] = df[date_column].dt.strftime('%Y-%m-%d %H:%M:%S')\n",
    "    return df\n",
    "\n",
    "# Função para carregar e processar dados do CSV\n",
    "def load_and_convert_csv(file_path, date_column='DATE_TIME'):\n",
    "    \"\"\"\n",
    "    Lê o arquivo CSV e converte a coluna DATE_TIME para um formato padronizado.\n",
    "    \"\"\"\n",
    "    df = pd.read_csv(file_path)\n",
    "    df = convert_to_timestamp(df, date_column)\n",
    "    return df\n",
    "\n",
    "# Fluxo principal de execução\n",
    "if __name__ == \"__main__\":\n",
    "    # Caminhos para os arquivos\n",
    "    generation_file_1 = \"dados/power_generation_plant_1.csv\"\n",
    "    generation_file_2 = \"dados/power_generation_plant_2.csv\"\n",
    "    \n",
    "    # Processamento dos arquivos\n",
    "    df_plant_1 = load_and_convert_csv(generation_file_1)\n",
    "    df_plant_2 = load_and_convert_csv(generation_file_2)\n",
    "\n",
    "    # Verificação da conversão\n",
    "    print(\"Arquivo 1:\")\n",
    "    print(df_plant_1[['DATE_TIME']].head())\n",
    "    print(\"Arquivo 2:\")\n",
    "    print(df_plant_2[['DATE_TIME']].head())\n"
   ]
  },
  {
   "cell_type": "code",
   "execution_count": null,
   "metadata": {},
   "outputs": [],
   "source": [
    "generation_data.head()"
   ]
  },
  {
   "cell_type": "code",
   "execution_count": null,
   "metadata": {},
   "outputs": [],
   "source": [
    "sensor_data.head()"
   ]
  },
  {
   "cell_type": "code",
   "execution_count": null,
   "metadata": {},
   "outputs": [],
   "source": [
    "# Agrupar dados por hora para facilitar a análise\n",
    "generation_data['HOUR'] = generation_data['DATE_TIME'].dt.hour\n",
    "weather_data['HOUR'] = weather_data['DATE_TIME'].dt.hour"
   ]
  },
  {
   "cell_type": "code",
   "execution_count": null,
   "metadata": {},
   "outputs": [],
   "source": [
    "\n",
    "# Verifica se houve alguma conversão falha (por exemplo, valores que não puderam ser convertidos)\n",
    "print(df_plant_1['DATE_TIME'].isnull().sum(), \"erros no arquivo 1\")\n",
    "print(df_plant_2['DATE_TIME'].isnull().sum(), \"erros no arquivo 2\")\n",
    "\n",
    "# Exibe uma amostra dos dados para verificar a conversão\n",
    "print(df_plant_1[['DATE_TIME']].head())\n",
    "print(df_plant_2[['DATE_TIME']].head())"
   ]
  }
 ],
 "metadata": {
  "kernelspec": {
   "display_name": ".venv",
   "language": "python",
   "name": "python3"
  },
  "language_info": {
   "codemirror_mode": {
    "name": "ipython",
    "version": 3
   },
   "file_extension": ".py",
   "mimetype": "text/x-python",
   "name": "python",
   "nbconvert_exporter": "python",
   "pygments_lexer": "ipython3",
   "version": "3.12.3"
  }
 },
 "nbformat": 4,
 "nbformat_minor": 2
}
