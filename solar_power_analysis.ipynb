{
 "cells": [
  {
   "cell_type": "code",
   "execution_count": 77,
   "metadata": {},
   "outputs": [],
   "source": [
    "import pandas as pd\n",
    "import seaborn as sns\n",
    "import matplotlib.pyplot as plt\n",
    "import numpy as np"
   ]
  },
  {
   "cell_type": "code",
   "execution_count": 78,
   "metadata": {},
   "outputs": [
    {
     "name": "stdout",
     "output_type": "stream",
     "text": [
      "Dados originais - Geração de Energia:\n",
      "(136476, 7)\n",
      "\n",
      "Dados originais - Sensores Climáticos:\n",
      "(6441, 6)\n"
     ]
    }
   ],
   "source": [
    "import os\n",
    "from pathlib import Path\n",
    "\n",
    "# Diretório onde estão os arquivos\n",
    "base_dir = \"dados/\"\n",
    "\n",
    "# Lista dos arquivos de geração e sensores, com caminhos completos\n",
    "generation_files = [os.path.join(base_dir, \"power_generation_plant_1.csv\"),\n",
    "                    os.path.join(base_dir, \"power_generation_plant_2.csv\")]\n",
    "\n",
    "sensor_files = [os.path.join(base_dir, \"weather_sensor_plant_1.csv\"),\n",
    "                os.path.join(base_dir, \"weather_sensor_plant_2.csv\")]\n",
    "\n",
    "# Lê e concatena todos os arquivos de geração\n",
    "generation_data = pd.concat([pd.read_csv(file) for file in generation_files], ignore_index=True)\n",
    "\n",
    "# Lê e concatena todos os arquivos de sensores\n",
    "sensor_data = pd.concat([pd.read_csv(file) for file in sensor_files], ignore_index=True)\n",
    "\n",
    "# Contagem de linhas e colunas antes das transformações\n",
    "print(\"Dados originais - Geração de Energia:\")\n",
    "print(generation_data.shape)\n",
    "\n",
    "print(\"\\nDados originais - Sensores Climáticos:\")\n",
    "print(sensor_data.shape)\n"
   ]
  },
  {
   "cell_type": "code",
   "execution_count": 79,
   "metadata": {},
   "outputs": [
    {
     "name": "stdout",
     "output_type": "stream",
     "text": [
      "\n",
      "Dados processados - Geração de Energia:\n",
      "             DATE_TIME  PLANT_ID       SOURCE_KEY  DC_POWER  AC_POWER  \\\n",
      "0  2020-05-15 00:00:00   4135001  1BY6WEcLGh8j5v7       0.0       0.0   \n",
      "1  2020-05-15 00:00:00   4135001  1IF53ai7Xc0U56Y       0.0       0.0   \n",
      "2  2020-05-15 00:00:00   4135001  3PZuoBAID5Wc2HD       0.0       0.0   \n",
      "3  2020-05-15 00:00:00   4135001  7JYdWkrLSPkdwr4       0.0       0.0   \n",
      "4  2020-05-15 00:00:00   4135001  McdE0feGgRqW7Ca       0.0       0.0   \n",
      "\n",
      "   DAILY_YIELD  TOTAL_YIELD  \n",
      "0          0.0    6259559.0  \n",
      "1          0.0    6183645.0  \n",
      "2          0.0    6987759.0  \n",
      "3          0.0    7602960.0  \n",
      "4          0.0    7158964.0  \n",
      "\n",
      "Dados processados - Sensores Climáticos:\n",
      "             DATE_TIME  PLANT_ID       SOURCE_KEY  AMBIENT_TEMPERATURE  \\\n",
      "0  2020-05-15 00:00:00   4135001  HmiyD2TTLFNqkNe            25.184316   \n",
      "1  2020-05-15 00:15:00   4135001  HmiyD2TTLFNqkNe            25.084589   \n",
      "2  2020-05-15 00:30:00   4135001  HmiyD2TTLFNqkNe            24.935753   \n",
      "3  2020-05-15 00:45:00   4135001  HmiyD2TTLFNqkNe            24.846130   \n",
      "4  2020-05-15 01:00:00   4135001  HmiyD2TTLFNqkNe            24.621525   \n",
      "\n",
      "   MODULE_TEMPERATURE  IRRADIATION  \n",
      "0           22.857507          0.0  \n",
      "1           22.761668          0.0  \n",
      "2           22.592306          0.0  \n",
      "3           22.360852          0.0  \n",
      "4           22.165423          0.0  \n"
     ]
    },
    {
     "name": "stderr",
     "output_type": "stream",
     "text": [
      "/tmp/ipykernel_5068/3468254982.py:6: UserWarning: Parsing dates in %Y-%m-%d %H:%M:%S format when dayfirst=True was specified. Pass `dayfirst=False` or specify a format to silence this warning.\n",
      "  df[date_column] = pd.to_datetime(df[date_column], dayfirst=True, errors='coerce')\n"
     ]
    }
   ],
   "source": [
    "# Função para padronizar e converter a coluna DATE_TIME para timestamp\n",
    "def convert_to_timestamp(df, date_column):\n",
    "    \"\"\"\n",
    "    Converte a coluna de data para timestamp e garante formato padronizado.\n",
    "    \"\"\"\n",
    "    df[date_column] = pd.to_datetime(df[date_column], dayfirst=True, errors='coerce')\n",
    "    df[date_column] = df[date_column].dt.strftime('%Y-%m-%d %H:%M:%S')\n",
    "    \n",
    "    return df\n",
    "\n",
    "# Aplicar a função de conversão à coluna DATE_TIME\n",
    "generation_data = convert_to_timestamp(generation_data, 'DATE_TIME')\n",
    "sensor_data = convert_to_timestamp(sensor_data, 'DATE_TIME')\n",
    "\n",
    "# Exibir os dados processados para verificação\n",
    "print(\"\\nDados processados - Geração de Energia:\")\n",
    "print(generation_data.head())\n",
    "\n",
    "print(\"\\nDados processados - Sensores Climáticos:\")\n",
    "print(sensor_data.head())"
   ]
  },
  {
   "cell_type": "code",
   "execution_count": 80,
   "metadata": {},
   "outputs": [
    {
     "name": "stdout",
     "output_type": "stream",
     "text": [
      "\n",
      "Dados com Hora - Geração de Energia:\n",
      "   DATE_TIME  HOUR\n",
      "0 2020-05-15   0.0\n",
      "1 2020-05-15   0.0\n",
      "2 2020-05-15   0.0\n",
      "3 2020-05-15   0.0\n",
      "4 2020-05-15   0.0\n",
      "\n",
      "Dados com Hora - Sensores Climáticos:\n",
      "            DATE_TIME  HOUR\n",
      "0 2020-05-15 00:00:00     0\n",
      "1 2020-05-15 00:15:00     0\n",
      "2 2020-05-15 00:30:00     0\n",
      "3 2020-05-15 00:45:00     0\n",
      "4 2020-05-15 01:00:00     1\n"
     ]
    }
   ],
   "source": [
    "# Converter a coluna DATE_TIME de volta para datetime após a formatação\n",
    "generation_data['DATE_TIME'] = pd.to_datetime(generation_data['DATE_TIME'])\n",
    "sensor_data['DATE_TIME'] = pd.to_datetime(sensor_data['DATE_TIME'])\n",
    "\n",
    "# Agrupar dados por hora para facilitar a análise\n",
    "generation_data['HOUR'] = generation_data['DATE_TIME'].dt.hour\n",
    "sensor_data['HOUR'] = sensor_data['DATE_TIME'].dt.hour\n",
    "\n",
    "# Exibir os dados com a nova coluna de hora\n",
    "print(\"\\nDados com Hora - Geração de Energia:\")\n",
    "print(generation_data[['DATE_TIME', 'HOUR']].head())\n",
    "\n",
    "print(\"\\nDados com Hora - Sensores Climáticos:\")\n",
    "print(sensor_data[['DATE_TIME', 'HOUR']].head())"
   ]
  },
  {
   "cell_type": "code",
   "execution_count": 81,
   "metadata": {},
   "outputs": [
    {
     "name": "stdout",
     "output_type": "stream",
     "text": [
      "67698 erros no arquivo 1\n",
      "0 erros no arquivo 2\n",
      "   DATE_TIME\n",
      "0 2020-05-15\n",
      "1 2020-05-15\n",
      "2 2020-05-15\n",
      "3 2020-05-15\n",
      "4 2020-05-15\n",
      "            DATE_TIME\n",
      "0 2020-05-15 00:00:00\n",
      "1 2020-05-15 00:15:00\n",
      "2 2020-05-15 00:30:00\n",
      "3 2020-05-15 00:45:00\n",
      "4 2020-05-15 01:00:00\n"
     ]
    }
   ],
   "source": [
    "# Verifica se houve alguma conversão falha (por exemplo, valores que não puderam ser convertidos)\n",
    "print(generation_data['DATE_TIME'].isnull().sum(), \"erros no arquivo 1\")\n",
    "print(sensor_data['DATE_TIME'].isnull().sum(), \"erros no arquivo 2\")\n",
    "\n",
    "# Exibe uma amostra dos dados para verificar a conversão\n",
    "print(generation_data[['DATE_TIME']].head())\n",
    "print(sensor_data[['DATE_TIME']].head())"
   ]
  },
  {
   "cell_type": "code",
   "execution_count": 82,
   "metadata": {},
   "outputs": [
    {
     "name": "stdout",
     "output_type": "stream",
     "text": [
      "Horários de pico de geração de energia (3 maiores):\n",
      "    HOUR      AC_POWER\n",
      "11  11.0  2.844334e+06\n",
      "12  12.0  2.802021e+06\n",
      "13  13.0  2.659193e+06\n",
      "\n",
      "Períodos de 3 horas consecutivas com alta geração de energia:\n",
      "    HOUR      AC_POWER\n",
      "10  10.0  2.550167e+06\n",
      "11  11.0  2.844334e+06\n",
      "12  12.0  2.802021e+06\n",
      "13  13.0  2.659193e+06\n"
     ]
    }
   ],
   "source": [
    "# Supondo que você já tenha os dados de geração em um DataFrame chamado generation_data\n",
    "\n",
    "# 1. Agrupar os dados por hora e somar a geração de energia\n",
    "generation_hourly = generation_data.groupby('HOUR').agg({'AC_POWER': 'sum'}).reset_index()\n",
    "\n",
    "# 2. Identificar os horários de pico (ex: os 3 maiores valores de AC_POWER)\n",
    "top_hours = generation_hourly.nlargest(3, 'AC_POWER')\n",
    "\n",
    "# Exibir as horas com maior geração\n",
    "print(\"Horários de pico de geração de energia (3 maiores):\")\n",
    "print(top_hours)\n",
    "\n",
    "# 3. Verificar períodos de 3 horas consecutivas\n",
    "generation_hourly['PICK'] = generation_hourly['AC_POWER'] > (top_hours['AC_POWER'].min() * 0.9)  # Ajuste o limite conforme necessário\n",
    "\n",
    "# Adiciona coluna de grupos\n",
    "generation_hourly['GROUP'] = (generation_hourly['PICK'] != generation_hourly['PICK'].shift()).cumsum()\n",
    "\n",
    "# Filtrar grupos de 3 ou mais horas consecutivas\n",
    "periods_of_interest = generation_hourly[generation_hourly['PICK']].groupby('GROUP').filter(lambda x: len(x) >= 3)\n",
    "\n",
    "# Exibir os períodos de interesse\n",
    "print(\"\\nPeríodos de 3 horas consecutivas com alta geração de energia:\")\n",
    "print(periods_of_interest[['HOUR', 'AC_POWER']])\n"
   ]
  },
  {
   "cell_type": "code",
   "execution_count": null,
   "metadata": {},
   "outputs": [],
   "source": []
  }
 ],
 "metadata": {
  "kernelspec": {
   "display_name": ".venv",
   "language": "python",
   "name": "python3"
  },
  "language_info": {
   "codemirror_mode": {
    "name": "ipython",
    "version": 3
   },
   "file_extension": ".py",
   "mimetype": "text/x-python",
   "name": "python",
   "nbconvert_exporter": "python",
   "pygments_lexer": "ipython3",
   "version": "3.12.3"
  }
 },
 "nbformat": 4,
 "nbformat_minor": 2
}
